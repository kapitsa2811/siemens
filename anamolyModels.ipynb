{
 "cells": [
  {
   "cell_type": "code",
   "execution_count": 3,
   "metadata": {},
   "outputs": [],
   "source": [
    "filePath=\"/home/k/PycharmProjects/pythonProject/kerasOCR/siemensGomesa/results//\"\n",
    "#fileName=\"df_6.csv\"\n",
    "fileName=\"df1.csv\""
   ]
  },
  {
   "cell_type": "code",
   "execution_count": 4,
   "metadata": {},
   "outputs": [],
   "source": [
    "import pycaret\n",
    "import pandas as pd\n",
    "import os\n",
    "import  matplotlib.pyplot as plt\n",
    "import numpy as np\n",
    "from pycaret.anomaly import *"
   ]
  },
  {
   "cell_type": "code",
   "execution_count": 5,
   "metadata": {},
   "outputs": [
    {
     "data": {
      "text/plain": [
       "'\\n    below analysis done on the transformed data\\n'"
      ]
     },
     "execution_count": 5,
     "metadata": {},
     "output_type": "execute_result"
    }
   ],
   "source": [
    "'''\n",
    "    below analysis done on the transformed data\n",
    "'''"
   ]
  },
  {
   "cell_type": "code",
   "execution_count": 6,
   "metadata": {},
   "outputs": [],
   "source": [
    "    def readData():\n",
    "        df1=pd.read_csv(filePath+fileName)\n",
    "        print(\"\\n\\t shape:\",df1.shape)\n",
    "\n",
    "        return df1"
   ]
  },
  {
   "cell_type": "code",
   "execution_count": 7,
   "metadata": {},
   "outputs": [
    {
     "name": "stdout",
     "output_type": "stream",
     "text": [
      "\n",
      "\t shape: (106746, 4)\n",
      "\n",
      "\t shape: (106746, 4)\n"
     ]
    }
   ],
   "source": [
    "df1=readData()\n",
    "print(\"\\n\\t shape:\",df1.shape)\n"
   ]
  },
  {
   "cell_type": "code",
   "execution_count": 8,
   "metadata": {},
   "outputs": [],
   "source": [
    "    def createModel():\n",
    "        df1=readData()\n",
    "        df1 = setup(df1)#\n",
    "        iforest = create_model('iforest')\n",
    "        #print(\"\\n\\t iforest =:\",iforest)\n",
    "        ## plotting a model\n",
    "        #plot_model(iforest)\n",
    "        return iforest\n",
    "        "
   ]
  },
  {
   "cell_type": "code",
   "execution_count": 9,
   "metadata": {
    "scrolled": true
   },
   "outputs": [],
   "source": [
    "#df1.shape\n",
    "iforest=createModel()"
   ]
  },
  {
   "cell_type": "code",
   "execution_count": 10,
   "metadata": {},
   "outputs": [],
   "source": [
    "outlier_results=assign_model(iforest)"
   ]
  },
  {
   "cell_type": "code",
   "execution_count": 11,
   "metadata": {},
   "outputs": [
    {
     "name": "stdout",
     "output_type": "stream",
     "text": [
      "<class 'pandas.core.frame.DataFrame'>\n"
     ]
    }
   ],
   "source": [
    "print(type(outlier_results))\n",
    "outlier_results.to_csv(filePath+\"outlier_results.csv\")"
   ]
  },
  {
   "cell_type": "code",
   "execution_count": 12,
   "metadata": {},
   "outputs": [
    {
     "data": {
      "text/plain": [
       "'\\n    analysis on non transformed data\\n'"
      ]
     },
     "execution_count": 12,
     "metadata": {},
     "output_type": "execute_result"
    }
   ],
   "source": [
    "'''\n",
    "    analysis on non transformed data\n",
    "'''"
   ]
  },
  {
   "cell_type": "code",
   "execution_count": null,
   "metadata": {},
   "outputs": [],
   "source": [
    "'''\n",
    "    USE KNN\n",
    "'''\n"
   ]
  },
  {
   "cell_type": "code",
   "execution_count": 14,
   "metadata": {},
   "outputs": [
    {
     "name": "stdout",
     "output_type": "stream",
     "text": [
      "<class 'pandas.core.frame.DataFrame'>\n"
     ]
    }
   ],
   "source": [
    "\n",
    "iknn = create_model('knn')\n",
    "outlier_results_iknn=assign_model(iknn)\n",
    "print(type(outlier_results_iknn))\n",
    "outlier_results_iknn.to_csv(filePath+\"outlier_results_iknn.csv\")"
   ]
  },
  {
   "cell_type": "code",
   "execution_count": 16,
   "metadata": {},
   "outputs": [],
   "source": [
    "\n",
    "icluster = create_model('cluster')\n",
    "outlier_results_icluster=assign_model(icluster)\n",
    "#print(type(outlier_results_abod))\n",
    "outlier_results_icluster.to_csv(filePath+\"outlier_results_icluster.csv\")\n"
   ]
  },
  {
   "cell_type": "code",
   "execution_count": null,
   "metadata": {},
   "outputs": [],
   "source": [
    "iabod = create_model('abod')\n",
    "outlier_results_abod=assign_model(iabod)\n",
    "#print(type(outlier_results_abod))\n",
    "outlier_results_abod.to_csv(filePath+\"outlier_results_abod.csv\")"
   ]
  },
  {
   "cell_type": "code",
   "execution_count": 19,
   "metadata": {},
   "outputs": [],
   "source": [
    "ihistogram = create_model('histogram')\n",
    "outlier_results_ihistogram=assign_model(ihistogram)\n",
    "outlier_results_ihistogram.to_csv(filePath+\"outlier_results_ihistogram.csv\")"
   ]
  },
  {
   "cell_type": "code",
   "execution_count": 20,
   "metadata": {},
   "outputs": [],
   "source": [
    "ilof = create_model('lof')\n",
    "outlier_results_ilof=assign_model(ilof)\n",
    "outlier_results_ilof.to_csv(filePath+\"outlier_results_ilof.csv\")"
   ]
  },
  {
   "cell_type": "code",
   "execution_count": 21,
   "metadata": {},
   "outputs": [],
   "source": [
    "ipca = create_model('pca')\n",
    "outlier_results_ipca=assign_model(ipca)\n",
    "outlier_results_ipca.to_csv(filePath+\"outlier_results_ipca.csv\")"
   ]
  },
  {
   "cell_type": "code",
   "execution_count": null,
   "metadata": {},
   "outputs": [],
   "source": []
  }
 ],
 "metadata": {
  "kernelspec": {
   "display_name": "Python 3",
   "language": "python",
   "name": "python3"
  },
  "language_info": {
   "codemirror_mode": {
    "name": "ipython",
    "version": 3
   },
   "file_extension": ".py",
   "mimetype": "text/x-python",
   "name": "python",
   "nbconvert_exporter": "python",
   "pygments_lexer": "ipython3",
   "version": "3.6.10"
  }
 },
 "nbformat": 4,
 "nbformat_minor": 4
}
