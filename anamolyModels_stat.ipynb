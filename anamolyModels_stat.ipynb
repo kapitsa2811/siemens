{
 "cells": [
  {
   "cell_type": "code",
   "execution_count": 11,
   "metadata": {},
   "outputs": [],
   "source": [
    "import pycaret\n",
    "import pandas as pd\n",
    "import os\n",
    "import  matplotlib.pyplot as plt\n",
    "import numpy as np\n",
    "from sklearn.model_selection import train_test_split\n",
    "from pycaret.anomaly import *\n",
    "from collections import defaultdict\n",
    "\n",
    "import numpy as np\n",
    "from datetime import datetime\n",
    "from datetime import timedelta\n",
    "from pandas.plotting import register_matplotlib_converters\n",
    "from statsmodels.tsa.stattools import acf, pacf\n",
    "from statsmodels.tsa.statespace.sarimax import SARIMAX\n",
    "register_matplotlib_converters()\n",
    "from time import time\n",
    "#https://heartbeat.fritz.ai/k-means-clustering-using-sklearn-and-python-4a054d67b187"
   ]
  },
  {
   "cell_type": "code",
   "execution_count": 12,
   "metadata": {},
   "outputs": [
    {
     "name": "stdout",
     "output_type": "stream",
     "text": [
      "\n",
      "\t shape2: (106746, 3)\n",
      "\n",
      "\t shape: df2: (106746, 3)\n"
     ]
    }
   ],
   "source": [
    "filePath=\"/home/k/PycharmProjects/pythonProject/kerasOCR/siemensGomesa/results//\"\n",
    "modelPath=\"/home/k/PycharmProjects/pythonProject/kerasOCR/siemensGomesa/model//\"\n",
    "plotPath=\"/home/k/PycharmProjects/pythonProject/kerasOCR/siemensGomesa/plots//\"\n",
    "\n",
    "#fileName=\"df_6.csv\"\n",
    "fileName=\"df1.csv\"\n",
    "\n",
    "\n",
    "def readData():\n",
    "    df1 = pd.read_csv(filePath + fileName)\n",
    "    print(\"\\n\\t shape2:\", df1.shape)\n",
    "    return df1\n",
    "\n",
    "df1=readData()\n",
    "print(\"\\n\\t shape: df2:\",df1.shape)"
   ]
  },
  {
   "cell_type": "code",
   "execution_count": 13,
   "metadata": {},
   "outputs": [],
   "source": [
    "#Import libraries\n",
    "#import numpy as np\n",
    "#import pandas as pd\n",
    "import matplotlib.pyplot as plt\n",
    "from sklearn.cluster import KMeans"
   ]
  },
  {
   "cell_type": "code",
   "execution_count": 15,
   "metadata": {},
   "outputs": [],
   "source": [
    "'''\n",
    "    only consider wind_speed and wind_angle for prediction\n",
    "'''\n",
    "\n",
    "x = df1.iloc[:, [1,2]].values"
   ]
  },
  {
   "cell_type": "code",
   "execution_count": 16,
   "metadata": {},
   "outputs": [
    {
     "name": "stdout",
     "output_type": "stream",
     "text": [
      "[0 0 0 ... 1 1 1]\n"
     ]
    },
    {
     "data": {
      "text/plain": [
       "array([[  4.5155098 , 130.57012515],\n",
       "       [  5.07216721, 251.75771692],\n",
       "       [  3.74985399,  38.5121501 ],\n",
       "       [  4.33380545, 324.39832828],\n",
       "       [  5.02252153, 193.88319558]])"
      ]
     },
     "execution_count": 16,
     "metadata": {},
     "output_type": "execute_result"
    }
   ],
   "source": [
    "kmeans5 = KMeans(n_clusters=5)\n",
    "y_kmeans5 = kmeans5.fit_predict(x)\n",
    "print(y_kmeans5)\n",
    "\n",
    "kmeans5.cluster_centers_"
   ]
  },
  {
   "cell_type": "code",
   "execution_count": 17,
   "metadata": {},
   "outputs": [
    {
     "data": {
      "image/png": "[encoded data removed]",
      "text/plain": [
       "<Figure size 432x288 with 1 Axes>"
      ]
     },
     "metadata": {
      "needs_background": "light"
     },
     "output_type": "display_data"
    }
   ],
   "source": [
    "Error =[]\n",
    "for i in range(1, 11):\n",
    "    kmeans = KMeans(n_clusters = i).fit(x)\n",
    "    kmeans.fit(x)\n",
    "    Error.append(kmeans.inertia_)\n",
    "import matplotlib.pyplot as plt\n",
    "plt.plot(range(1, 11), Error)\n",
    "plt.title('Elbow method')\n",
    "plt.xlabel('No of clusters')\n",
    "plt.ylabel('Error')\n",
    "plt.show()"
   ]
  },
  {
   "cell_type": "code",
   "execution_count": 22,
   "metadata": {},
   "outputs": [
    {
     "name": "stdout",
     "output_type": "stream",
     "text": [
      "[3 3 3 ... 1 1 1]\n"
     ]
    },
    {
     "data": {
      "text/plain": [
       "array([[  4.46295351, 316.66661486],\n",
       "       [  5.0800403 , 231.04516494],\n",
       "       [  3.76280732,  46.87299546],\n",
       "       [  4.759061  , 154.44229807]])"
      ]
     },
     "execution_count": 22,
     "metadata": {},
     "output_type": "execute_result"
    }
   ],
   "source": [
    "kmeans4 = KMeans(n_clusters=4)\n",
    "y_kmeans4 = kmeans4.fit_predict(x)\n",
    "print(y_kmeans4)\n",
    "\n",
    "kmeans4.cluster_centers_"
   ]
  },
  {
   "cell_type": "code",
   "execution_count": 2,
   "metadata": {},
   "outputs": [
    {
     "name": "stdout",
     "output_type": "stream",
     "text": [
      "File 'plotsAndPreprocessing' exists. Overwrite? n\n",
      "Aborting.\n"
     ]
    }
   ],
   "source": [
    "%history -g -f plotsAndPreprocessing"
   ]
  },
  {
   "cell_type": "code",
   "execution_count": 3,
   "metadata": {},
   "outputs": [],
   "source": [
    "%history -g -f anyfilename\n"
   ]
  },
  {
   "cell_type": "code",
   "execution_count": null,
   "metadata": {},
   "outputs": [],
   "source": []
  }
 ],
 "metadata": {
  "kernelspec": {
   "display_name": "Python 3",
   "language": "python",
   "name": "python3"
  },
  "language_info": {
   "codemirror_mode": {
    "name": "ipython",
    "version": 3
   },
   "file_extension": ".py",
   "mimetype": "text/x-python",
   "name": "python",
   "nbconvert_exporter": "python",
   "pygments_lexer": "ipython3",
   "version": "3.6.10"
  }
 },
 "nbformat": 4,
 "nbformat_minor": 4
}
