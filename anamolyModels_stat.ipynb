{
 "cells": [
  {
   "cell_type": "code",
   "execution_count": 37,
   "metadata": {},
   "outputs": [],
   "source": [
    "#import pycaret\n",
    "import pandas as pd\n",
    "import os\n",
    "import  matplotlib.pyplot as plt\n",
    "import numpy as np\n",
    "from sklearn.model_selection import train_test_split\n",
    "from pycaret.anomaly import *\n",
    "from collections import defaultdict\n",
    "\n",
    "import numpy as np\n",
    "from datetime import datetime\n",
    "from datetime import timedelta\n",
    "from pandas.plotting import register_matplotlib_converters\n",
    "from statsmodels.tsa.stattools import acf, pacf\n",
    "from statsmodels.tsa.statespace.sarimax import SARIMAX\n",
    "register_matplotlib_converters()\n",
    "from time import time\n",
    "#https://heartbeat.fritz.ai/k-means-clustering-using-sklearn-and-python-4a054d67b187"
   ]
  },
  {
   "cell_type": "code",
   "execution_count": 107,
   "metadata": {},
   "outputs": [
    {
     "name": "stdout",
     "output_type": "stream",
     "text": [
      "\n",
      "\t shape2: (106746, 3)\n",
      "\n",
      "\t shape: df2: (106746, 3)\n"
     ]
    }
   ],
   "source": [
    "filePath=\".//data//\"\n",
    "fileName=\"data_sample.csv\"\n",
    "resultPath=\".//results//\"\n",
    "\n",
    "def readData():\n",
    "    df1 = pd.read_csv(filePath + fileName)\n",
    "    df1=df1.dropna()\n",
    "    print(\"\\n\\t shape2:\", df1.shape)\n",
    "    return df1\n",
    "\n",
    "df1=readData()\n",
    "print(\"\\n\\t shape: df2:\",df1.shape)"
   ]
  },
  {
   "cell_type": "code",
   "execution_count": 39,
   "metadata": {},
   "outputs": [],
   "source": [
    "#Import libraries\n",
    "#import numpy as np\n",
    "#import pandas as pd\n",
    "import matplotlib.pyplot as plt\n",
    "from sklearn.cluster import KMeans"
   ]
  },
  {
   "cell_type": "code",
   "execution_count": 63,
   "metadata": {},
   "outputs": [
    {
     "name": "stdout",
     "output_type": "stream",
     "text": [
      "\n",
      "\t x: (106746, 2)\n"
     ]
    }
   ],
   "source": [
    "'''\n",
    "    only consider wind_speed and wind_angle for prediction\n",
    "'''\n",
    "train, test = train_test_split(df1, test_size=0.05, shuffle=False)\n",
    "\n",
    "#x = df1.iloc[:, [1,2]].values\n",
    "\n",
    "x = df1.iloc[:, [1,2]]\n",
    "print(\"\\n\\t x:\",x.shape)"
   ]
  },
  {
   "cell_type": "code",
   "execution_count": 41,
   "metadata": {},
   "outputs": [
    {
     "data": {
      "text/plain": [
       "'\\nkmeans5 = KMeans(n_clusters=5)\\ny_kmeans5 = kmeans5.fit_predict(x)\\nprint(y_kmeans5)\\nkmeans5.cluster_centers_\\n'"
      ]
     },
     "execution_count": 41,
     "metadata": {},
     "output_type": "execute_result"
    }
   ],
   "source": [
    "'''\n",
    "kmeans5 = KMeans(n_clusters=5)\n",
    "y_kmeans5 = kmeans5.fit_predict(x)\n",
    "print(y_kmeans5)\n",
    "kmeans5.cluster_centers_\n",
    "'''"
   ]
  },
  {
   "cell_type": "code",
   "execution_count": 64,
   "metadata": {},
   "outputs": [
    {
     "data": {
      "image/png": "[encoded data removed]",
      "text/plain": [
       "<Figure size 432x288 with 1 Axes>"
      ]
     },
     "metadata": {
      "needs_background": "light"
     },
     "output_type": "display_data"
    }
   ],
   "source": [
    "Error =[]\n",
    "for i in range(1, 11):\n",
    "    kmeans = KMeans(n_clusters = i).fit(x)\n",
    "    kmeans.fit(x)\n",
    "    Error.append(kmeans.inertia_)\n",
    "import matplotlib.pyplot as plt\n",
    "plt.plot(range(1, 11), Error)\n",
    "plt.title('Elbow method')\n",
    "plt.xlabel('No of clusters')\n",
    "plt.ylabel('Error')\n",
    "plt.show()"
   ]
  },
  {
   "cell_type": "code",
   "execution_count": 76,
   "metadata": {},
   "outputs": [
    {
     "name": "stdout",
     "output_type": "stream",
     "text": [
      "[0 0 0 ... 0 1 0]\n"
     ]
    },
    {
     "data": {
      "text/plain": [
       "array([[  4.74899424, 153.57154567],\n",
       "       [  5.11874554, 229.85175673],\n",
       "       [  4.48522871, 314.6853327 ],\n",
       "       [  3.76960235,  46.76492008]])"
      ]
     },
     "execution_count": 76,
     "metadata": {},
     "output_type": "execute_result"
    }
   ],
   "source": [
    "kmeans4 = KMeans(n_clusters=4)\n",
    "y_kmeans4 = kmeans4.fit_predict(train.iloc[:, [1,2]].values)\n",
    "#y_kmeans4 = kmeans4.fit_predict(x.values)\n",
    "print(y_kmeans4)\n",
    "\n",
    "kmeans4.cluster_centers_"
   ]
  },
  {
   "cell_type": "code",
   "execution_count": 77,
   "metadata": {},
   "outputs": [
    {
     "name": "stdout",
     "output_type": "stream",
     "text": [
      "[[  4.74899424 153.57154567]\n",
      " [  5.11874554 229.85175673]\n",
      " [  4.48522871 314.6853327 ]\n",
      " [  3.76960235  46.76492008]]\n",
      "\n",
      "\t no of alloted cluster points: 101408\n",
      "\n",
      "\t no of alloted cluster points: (101408, 3)\n"
     ]
    }
   ],
   "source": [
    "'''\n",
    "    from elbow plot it is clear that k=4 are optimal clusters\n",
    "    \n",
    "    Now calculate each points distance from assigned cluster\n",
    "'''\n",
    "\n",
    "print(kmeans4.cluster_centers_)\n",
    "#kmeans4.cluster_centers_[2][1]\n",
    "print(\"\\n\\t no of alloted cluster points:\",len(y_kmeans4))\n",
    "print(\"\\n\\t no of alloted cluster points:\",train.shape)"
   ]
  },
  {
   "cell_type": "code",
   "execution_count": 110,
   "metadata": {},
   "outputs": [
    {
     "name": "stdout",
     "output_type": "stream",
     "text": [
      "\n",
      "\t cluster centres cx1: 4.748994240141783 \t cy1: 153.57154566744742\n",
      "\n",
      "\t exceptionCount: 0\n",
      "\n",
      "\t m1: 21.82775131645327\n",
      "\n",
      "\t s1: 13.091996238654692\n",
      "\n",
      "\t m2: 19.22464365839028\n",
      "\n",
      "\t s2: 11.448775203374128\n",
      "\n",
      "\t m3: 22.21763271924251\n",
      "\n",
      "\t s3: 12.524298742813068\n",
      "\n",
      "\t m4: 25.723119946722775\n",
      "\n",
      "\t s4: 14.597581838072266\n",
      "\n",
      "\t cluster centre 1 # points: 0\n"
     ]
    }
   ],
   "source": [
    "'''\n",
    "    calculate distance\n",
    "'''\n",
    "from collections import defaultdict\n",
    "import statistics \n",
    "from statistics import mean\n",
    "\n",
    "clusterPoints=defaultdict(list)\n",
    "clusterDist=defaultdict(list)\n",
    "centrePointDist=defaultdict(list)\n",
    "\n",
    "def calCulateDistance(df,clusters,cluster_centers):\n",
    "    \n",
    "    exceptionCount=0\n",
    "    cx1,cy1=cluster_centers[0][0],cluster_centers[0][1] \n",
    "    cx2,cy2=cluster_centers[1][0],cluster_centers[1][1] \n",
    "    cx3,cy3=cluster_centers[2][0],cluster_centers[2][1] \n",
    "    cx4,cy4=cluster_centers[3][0],cluster_centers[3][1] \n",
    "    \n",
    "    print(\"\\n\\t cluster centres cx1:\",cx1,\"\\t cy1:\",cy1)\n",
    "            \n",
    "    for indx,row in df.iterrows():\n",
    "        \n",
    "        try:\n",
    "            #print(\"\\n\\t indx:\",indx)\n",
    "            #centreID=clusters[indx]\n",
    "            #print(\"\\n\\t row:\\n\",row)\n",
    "            x,y=df.loc[indx,\"wind_speed\"],df.loc[indx,\"wind_direction\"]\n",
    "            #print(\"\\n\\t x:\",x,\"\\t y:\",y)\n",
    "            #print(\"\\n\\t centreID=\",centreID)\n",
    "            \n",
    "            distance1=((cx1-x)**2+(cy1-y)**2)**0.5\n",
    "            distance2=((cx2-x)**2+(cy2-y)**2)**0.5\n",
    "            distance3=((cx3-x)**2+(cy3-y)**2)**0.5\n",
    "            distance4=((cx4-x)**2+(cy4-y)**2)**0.5\n",
    "            #print(\"\\n\\t x:\",x,\"\\t y:\",y,\"\\t distance=\",distance)\n",
    "            \n",
    "            minDist=min(distance1,distance2,distance3,distance4)\n",
    "            \n",
    "            if minDist==distance1:\n",
    "                cx,cy=cx1,cy1\n",
    "                centreID=1\n",
    "            elif  minDist==distance2:\n",
    "                cx,cy=cx2,cy2\n",
    "                centreID=2\n",
    "            elif  minDist==distance3:\n",
    "                cx,cy=cx3,cy3\n",
    "                centreID=3\n",
    "            elif  minDist==distance4:\n",
    "                cx,cy=cx4,cy4\n",
    "                centreID=4\n",
    "                \n",
    "            clusterDist[centreID].append(minDist)# distances of point clusterwise\n",
    "            clusterPoints[(x,y)].append(centreID)# cluster id for each cluster\n",
    "            centrePointDist[(x,y)]=minDist # minimum dist\n",
    "            \n",
    "        except Exception as e:\n",
    "            print(\"\\n\\t indx:\",indx,\"\\t e:\",e)\n",
    "            exceptionCount+=1\n",
    "    print(\"\\n\\t exceptionCount:\",exceptionCount)  \n",
    "    \n",
    "    m1,s1=0,0\n",
    "    m2,s2=0,0\n",
    "    m3,s3=0,0\n",
    "    m4,s5=0,0\n",
    "    \n",
    "    \n",
    "    #res = statistics.pstdev(test_list) \n",
    "    m1=mean(clusterDist[1])\n",
    "    m2=mean(clusterDist[2])    \n",
    "    m3=mean(clusterDist[3])\n",
    "    m4=mean(clusterDist[4])\n",
    "        \n",
    "    s1=statistics.pstdev(clusterDist[1])\n",
    "    s2=statistics.pstdev(clusterDist[2])    \n",
    "    s3=statistics.pstdev(clusterDist[3])\n",
    "    s4=statistics.pstdev(clusterDist[4])\n",
    "    \n",
    "    threshold=[m1+2*s1,m2+2*s2,m3+2*s3,m4+2*s4]\n",
    "    threshold1=[m1-2*s1,m2-2*s2,m3-2*s3,m4-2*s4]\n",
    "    \n",
    "    print(\"\\n\\t m1:\",m1)\n",
    "    print(\"\\n\\t s1:\",s1)\n",
    "    \n",
    "    print(\"\\n\\t m2:\",m2)\n",
    "    print(\"\\n\\t s2:\",s2)\n",
    "\n",
    "    print(\"\\n\\t m3:\",m3)\n",
    "    print(\"\\n\\t s3:\",s3)\n",
    "\n",
    "    print(\"\\n\\t m4:\",m4)\n",
    "    print(\"\\n\\t s4:\",s4)\n",
    "    \n",
    "    \n",
    "    '''\n",
    "        clusterDist[centreID].append(minDist)# distances of point clusterwise\n",
    "        clusterPoints[(x,y)].append(centreID)# cluster id for each cluster\n",
    "        centrePointDist[(x,y)]=minDist # minimum dist\n",
    "    '''\n",
    "    \n",
    "    for indx,row in df.iterrows():\n",
    "        x,y=df.loc[indx,\"wind_speed\"],df.loc[indx,\"wind_direction\"]\n",
    "        key=(x,y)\n",
    "        centreID=clusterPoints[key]\n",
    "        d=centrePointDist[key]\n",
    "        \n",
    "        #print(\"centreID=\",centreID[0])\n",
    "        \n",
    "        if d>=threshold[(centreID[0]-1)] or d<threshold1[(centreID[0]-1)]:\n",
    "            df.loc[indx,\"outlier\"]=1\n",
    "        else:\n",
    "            df.loc[indx,\"outlier\"]=0            \n",
    "        \n",
    "        df.loc[indx,\"dist\"]=d\n",
    "    return clusterPoints,df\n",
    "        \n",
    "clusterPoints,df=calCulateDistance(train,y_kmeans4,kmeans4.cluster_centers_)\n",
    "\n",
    "#clusterPoints=calCulateDistance(x,y_kmeans4,kmeans4.cluster_centers_)\n",
    "print(\"\\n\\t cluster centre 1 # points:\",len(clusterPoints[0]))\n",
    "df.to_csv(resultPath+\"kmeans.csv\")\n"
   ]
  },
  {
   "cell_type": "code",
   "execution_count": 74,
   "metadata": {},
   "outputs": [
    {
     "data": {
      "text/plain": [
       "3"
      ]
     },
     "execution_count": 74,
     "metadata": {},
     "output_type": "execute_result"
    }
   ],
   "source": []
  },
  {
   "cell_type": "code",
   "execution_count": null,
   "metadata": {},
   "outputs": [],
   "source": []
  }
 ],
 "metadata": {
  "kernelspec": {
   "display_name": "Python 3",
   "language": "python",
   "name": "python3"
  },
  "language_info": {
   "codemirror_mode": {
    "name": "ipython",
    "version": 3
   },
   "file_extension": ".py",
   "mimetype": "text/x-python",
   "name": "python",
   "nbconvert_exporter": "python",
   "pygments_lexer": "ipython3",
   "version": "3.6.10"
  }
 },
 "nbformat": 4,
 "nbformat_minor": 4
}
